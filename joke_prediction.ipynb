{
  "nbformat": 4,
  "nbformat_minor": 0,
  "metadata": {
    "colab": {
      "name": "joke prediction.ipynb",
      "provenance": []
    },
    "kernelspec": {
      "name": "python3",
      "display_name": "Python 3"
    }
  },
  "cells": [
    {
      "cell_type": "code",
      "metadata": {
        "id": "wyigFRtryCi1",
        "colab_type": "code",
        "colab": {}
      },
      "source": [
        "import pandas as pd\n",
        "import matplotlib.pyplot as plt"
      ],
      "execution_count": null,
      "outputs": []
    },
    {
      "cell_type": "code",
      "metadata": {
        "id": "zlOE7n5h3MQ0",
        "colab_type": "code",
        "colab": {
          "base_uri": "https://localhost:8080/",
          "height": 419
        },
        "outputId": "1faae066-749f-4a32-f2b7-3db8acb4f3b8"
      },
      "source": [
        "train_data = pd.read_csv('train.csv')\n",
        "train_data"
      ],
      "execution_count": null,
      "outputs": [
        {
          "output_type": "execute_result",
          "data": {
            "text/html": [
              "<div>\n",
              "<style scoped>\n",
              "    .dataframe tbody tr th:only-of-type {\n",
              "        vertical-align: middle;\n",
              "    }\n",
              "\n",
              "    .dataframe tbody tr th {\n",
              "        vertical-align: top;\n",
              "    }\n",
              "\n",
              "    .dataframe thead th {\n",
              "        text-align: right;\n",
              "    }\n",
              "</style>\n",
              "<table border=\"1\" class=\"dataframe\">\n",
              "  <thead>\n",
              "    <tr style=\"text-align: right;\">\n",
              "      <th></th>\n",
              "      <th>id</th>\n",
              "      <th>user_id</th>\n",
              "      <th>joke_id</th>\n",
              "      <th>Rating</th>\n",
              "    </tr>\n",
              "  </thead>\n",
              "  <tbody>\n",
              "    <tr>\n",
              "      <th>0</th>\n",
              "      <td>31030_110</td>\n",
              "      <td>31030</td>\n",
              "      <td>110</td>\n",
              "      <td>2.750</td>\n",
              "    </tr>\n",
              "    <tr>\n",
              "      <th>1</th>\n",
              "      <td>16144_109</td>\n",
              "      <td>16144</td>\n",
              "      <td>109</td>\n",
              "      <td>5.094</td>\n",
              "    </tr>\n",
              "    <tr>\n",
              "      <th>2</th>\n",
              "      <td>23098_6</td>\n",
              "      <td>23098</td>\n",
              "      <td>6</td>\n",
              "      <td>-6.438</td>\n",
              "    </tr>\n",
              "    <tr>\n",
              "      <th>3</th>\n",
              "      <td>14273_86</td>\n",
              "      <td>14273</td>\n",
              "      <td>86</td>\n",
              "      <td>4.406</td>\n",
              "    </tr>\n",
              "    <tr>\n",
              "      <th>4</th>\n",
              "      <td>18419_134</td>\n",
              "      <td>18419</td>\n",
              "      <td>134</td>\n",
              "      <td>9.375</td>\n",
              "    </tr>\n",
              "    <tr>\n",
              "      <th>...</th>\n",
              "      <td>...</td>\n",
              "      <td>...</td>\n",
              "      <td>...</td>\n",
              "      <td>...</td>\n",
              "    </tr>\n",
              "    <tr>\n",
              "      <th>1092054</th>\n",
              "      <td>9517_132</td>\n",
              "      <td>9517</td>\n",
              "      <td>132</td>\n",
              "      <td>3.156</td>\n",
              "    </tr>\n",
              "    <tr>\n",
              "      <th>1092055</th>\n",
              "      <td>27767_118</td>\n",
              "      <td>27767</td>\n",
              "      <td>118</td>\n",
              "      <td>-1.594</td>\n",
              "    </tr>\n",
              "    <tr>\n",
              "      <th>1092056</th>\n",
              "      <td>10580_81</td>\n",
              "      <td>10580</td>\n",
              "      <td>81</td>\n",
              "      <td>2.000</td>\n",
              "    </tr>\n",
              "    <tr>\n",
              "      <th>1092057</th>\n",
              "      <td>31007_119</td>\n",
              "      <td>31007</td>\n",
              "      <td>119</td>\n",
              "      <td>8.906</td>\n",
              "    </tr>\n",
              "    <tr>\n",
              "      <th>1092058</th>\n",
              "      <td>8420_98</td>\n",
              "      <td>8420</td>\n",
              "      <td>98</td>\n",
              "      <td>-3.344</td>\n",
              "    </tr>\n",
              "  </tbody>\n",
              "</table>\n",
              "<p>1092059 rows × 4 columns</p>\n",
              "</div>"
            ],
            "text/plain": [
              "                id  user_id  joke_id  Rating\n",
              "0        31030_110    31030      110   2.750\n",
              "1        16144_109    16144      109   5.094\n",
              "2          23098_6    23098        6  -6.438\n",
              "3         14273_86    14273       86   4.406\n",
              "4        18419_134    18419      134   9.375\n",
              "...            ...      ...      ...     ...\n",
              "1092054   9517_132     9517      132   3.156\n",
              "1092055  27767_118    27767      118  -1.594\n",
              "1092056   10580_81    10580       81   2.000\n",
              "1092057  31007_119    31007      119   8.906\n",
              "1092058    8420_98     8420       98  -3.344\n",
              "\n",
              "[1092059 rows x 4 columns]"
            ]
          },
          "metadata": {
            "tags": []
          },
          "execution_count": 2
        }
      ]
    },
    {
      "cell_type": "code",
      "metadata": {
        "id": "1UpNR0S4qulJ",
        "colab_type": "code",
        "colab": {
          "base_uri": "https://localhost:8080/",
          "height": 142
        },
        "outputId": "57c377e9-956e-4f1f-8e4f-3973e54f173b"
      },
      "source": [
        "train_data.corr()"
      ],
      "execution_count": null,
      "outputs": [
        {
          "output_type": "execute_result",
          "data": {
            "text/html": [
              "<div>\n",
              "<style scoped>\n",
              "    .dataframe tbody tr th:only-of-type {\n",
              "        vertical-align: middle;\n",
              "    }\n",
              "\n",
              "    .dataframe tbody tr th {\n",
              "        vertical-align: top;\n",
              "    }\n",
              "\n",
              "    .dataframe thead th {\n",
              "        text-align: right;\n",
              "    }\n",
              "</style>\n",
              "<table border=\"1\" class=\"dataframe\">\n",
              "  <thead>\n",
              "    <tr style=\"text-align: right;\">\n",
              "      <th></th>\n",
              "      <th>user_id</th>\n",
              "      <th>joke_id</th>\n",
              "      <th>Rating</th>\n",
              "    </tr>\n",
              "  </thead>\n",
              "  <tbody>\n",
              "    <tr>\n",
              "      <th>user_id</th>\n",
              "      <td>1.000000</td>\n",
              "      <td>0.006201</td>\n",
              "      <td>0.019657</td>\n",
              "    </tr>\n",
              "    <tr>\n",
              "      <th>joke_id</th>\n",
              "      <td>0.006201</td>\n",
              "      <td>1.000000</td>\n",
              "      <td>0.160248</td>\n",
              "    </tr>\n",
              "    <tr>\n",
              "      <th>Rating</th>\n",
              "      <td>0.019657</td>\n",
              "      <td>0.160248</td>\n",
              "      <td>1.000000</td>\n",
              "    </tr>\n",
              "  </tbody>\n",
              "</table>\n",
              "</div>"
            ],
            "text/plain": [
              "          user_id   joke_id    Rating\n",
              "user_id  1.000000  0.006201  0.019657\n",
              "joke_id  0.006201  1.000000  0.160248\n",
              "Rating   0.019657  0.160248  1.000000"
            ]
          },
          "metadata": {
            "tags": []
          },
          "execution_count": 3
        }
      ]
    },
    {
      "cell_type": "code",
      "metadata": {
        "id": "EkI4JXUl3a_q",
        "colab_type": "code",
        "colab": {
          "base_uri": "https://localhost:8080/",
          "height": 34
        },
        "outputId": "15be5d16-4cb3-495c-f145-bea03269f24f"
      },
      "source": [
        "col = [col for col in train_data.columns if train_data[col].isnull().any()]\n",
        "col"
      ],
      "execution_count": null,
      "outputs": [
        {
          "output_type": "execute_result",
          "data": {
            "text/plain": [
              "[]"
            ]
          },
          "metadata": {
            "tags": []
          },
          "execution_count": 4
        }
      ]
    },
    {
      "cell_type": "code",
      "metadata": {
        "id": "AIPHCDLg-y4o",
        "colab_type": "code",
        "colab": {
          "base_uri": "https://localhost:8080/",
          "height": 419
        },
        "outputId": "9527720d-cee5-4625-c378-32f7c34985b0"
      },
      "source": [
        "x = train_data.iloc[:,1:3]\n",
        "x"
      ],
      "execution_count": null,
      "outputs": [
        {
          "output_type": "execute_result",
          "data": {
            "text/html": [
              "<div>\n",
              "<style scoped>\n",
              "    .dataframe tbody tr th:only-of-type {\n",
              "        vertical-align: middle;\n",
              "    }\n",
              "\n",
              "    .dataframe tbody tr th {\n",
              "        vertical-align: top;\n",
              "    }\n",
              "\n",
              "    .dataframe thead th {\n",
              "        text-align: right;\n",
              "    }\n",
              "</style>\n",
              "<table border=\"1\" class=\"dataframe\">\n",
              "  <thead>\n",
              "    <tr style=\"text-align: right;\">\n",
              "      <th></th>\n",
              "      <th>user_id</th>\n",
              "      <th>joke_id</th>\n",
              "    </tr>\n",
              "  </thead>\n",
              "  <tbody>\n",
              "    <tr>\n",
              "      <th>0</th>\n",
              "      <td>31030</td>\n",
              "      <td>110</td>\n",
              "    </tr>\n",
              "    <tr>\n",
              "      <th>1</th>\n",
              "      <td>16144</td>\n",
              "      <td>109</td>\n",
              "    </tr>\n",
              "    <tr>\n",
              "      <th>2</th>\n",
              "      <td>23098</td>\n",
              "      <td>6</td>\n",
              "    </tr>\n",
              "    <tr>\n",
              "      <th>3</th>\n",
              "      <td>14273</td>\n",
              "      <td>86</td>\n",
              "    </tr>\n",
              "    <tr>\n",
              "      <th>4</th>\n",
              "      <td>18419</td>\n",
              "      <td>134</td>\n",
              "    </tr>\n",
              "    <tr>\n",
              "      <th>...</th>\n",
              "      <td>...</td>\n",
              "      <td>...</td>\n",
              "    </tr>\n",
              "    <tr>\n",
              "      <th>1092054</th>\n",
              "      <td>9517</td>\n",
              "      <td>132</td>\n",
              "    </tr>\n",
              "    <tr>\n",
              "      <th>1092055</th>\n",
              "      <td>27767</td>\n",
              "      <td>118</td>\n",
              "    </tr>\n",
              "    <tr>\n",
              "      <th>1092056</th>\n",
              "      <td>10580</td>\n",
              "      <td>81</td>\n",
              "    </tr>\n",
              "    <tr>\n",
              "      <th>1092057</th>\n",
              "      <td>31007</td>\n",
              "      <td>119</td>\n",
              "    </tr>\n",
              "    <tr>\n",
              "      <th>1092058</th>\n",
              "      <td>8420</td>\n",
              "      <td>98</td>\n",
              "    </tr>\n",
              "  </tbody>\n",
              "</table>\n",
              "<p>1092059 rows × 2 columns</p>\n",
              "</div>"
            ],
            "text/plain": [
              "         user_id  joke_id\n",
              "0          31030      110\n",
              "1          16144      109\n",
              "2          23098        6\n",
              "3          14273       86\n",
              "4          18419      134\n",
              "...          ...      ...\n",
              "1092054     9517      132\n",
              "1092055    27767      118\n",
              "1092056    10580       81\n",
              "1092057    31007      119\n",
              "1092058     8420       98\n",
              "\n",
              "[1092059 rows x 2 columns]"
            ]
          },
          "metadata": {
            "tags": []
          },
          "execution_count": 5
        }
      ]
    },
    {
      "cell_type": "code",
      "metadata": {
        "id": "gboAyp1O_JZ8",
        "colab_type": "code",
        "colab": {
          "base_uri": "https://localhost:8080/",
          "height": 34
        },
        "outputId": "114819fd-90a6-41dc-c20a-fa2193785503"
      },
      "source": [
        "y = train_data.iloc[:,3]\n",
        "y.dtypes"
      ],
      "execution_count": null,
      "outputs": [
        {
          "output_type": "execute_result",
          "data": {
            "text/plain": [
              "dtype('float64')"
            ]
          },
          "metadata": {
            "tags": []
          },
          "execution_count": 6
        }
      ]
    },
    {
      "cell_type": "code",
      "metadata": {
        "id": "HVE1XvRuRkP4",
        "colab_type": "code",
        "colab": {
          "base_uri": "https://localhost:8080/",
          "height": 136
        },
        "outputId": "a1387c40-256d-48a3-86ae-59b807b6fdb1"
      },
      "source": [
        "from sklearn.ensemble import RandomForestRegressor\n",
        "RF = RandomForestRegressor()\n",
        "RF.fit(x,y)\n"
      ],
      "execution_count": null,
      "outputs": [
        {
          "output_type": "execute_result",
          "data": {
            "text/plain": [
              "RandomForestRegressor(bootstrap=True, ccp_alpha=0.0, criterion='mse',\n",
              "                      max_depth=None, max_features='auto', max_leaf_nodes=None,\n",
              "                      max_samples=None, min_impurity_decrease=0.0,\n",
              "                      min_impurity_split=None, min_samples_leaf=1,\n",
              "                      min_samples_split=2, min_weight_fraction_leaf=0.0,\n",
              "                      n_estimators=100, n_jobs=None, oob_score=False,\n",
              "                      random_state=None, verbose=0, warm_start=False)"
            ]
          },
          "metadata": {
            "tags": []
          },
          "execution_count": 7
        }
      ]
    },
    {
      "cell_type": "code",
      "metadata": {
        "id": "UXol0J7VRLTx",
        "colab_type": "code",
        "colab": {
          "base_uri": "https://localhost:8080/",
          "height": 419
        },
        "outputId": "1337c07b-d055-4f07-8d77-13e87fa959f3"
      },
      "source": [
        "test_data = pd.read_csv('test.csv')\n",
        "test_data"
      ],
      "execution_count": null,
      "outputs": [
        {
          "output_type": "execute_result",
          "data": {
            "text/html": [
              "<div>\n",
              "<style scoped>\n",
              "    .dataframe tbody tr th:only-of-type {\n",
              "        vertical-align: middle;\n",
              "    }\n",
              "\n",
              "    .dataframe tbody tr th {\n",
              "        vertical-align: top;\n",
              "    }\n",
              "\n",
              "    .dataframe thead th {\n",
              "        text-align: right;\n",
              "    }\n",
              "</style>\n",
              "<table border=\"1\" class=\"dataframe\">\n",
              "  <thead>\n",
              "    <tr style=\"text-align: right;\">\n",
              "      <th></th>\n",
              "      <th>id</th>\n",
              "      <th>user_id</th>\n",
              "      <th>joke_id</th>\n",
              "    </tr>\n",
              "  </thead>\n",
              "  <tbody>\n",
              "    <tr>\n",
              "      <th>0</th>\n",
              "      <td>6194_11</td>\n",
              "      <td>6194</td>\n",
              "      <td>11</td>\n",
              "    </tr>\n",
              "    <tr>\n",
              "      <th>1</th>\n",
              "      <td>19356_3</td>\n",
              "      <td>19356</td>\n",
              "      <td>3</td>\n",
              "    </tr>\n",
              "    <tr>\n",
              "      <th>2</th>\n",
              "      <td>23426_79</td>\n",
              "      <td>23426</td>\n",
              "      <td>79</td>\n",
              "    </tr>\n",
              "    <tr>\n",
              "      <th>3</th>\n",
              "      <td>40030_3</td>\n",
              "      <td>40030</td>\n",
              "      <td>3</td>\n",
              "    </tr>\n",
              "    <tr>\n",
              "      <th>4</th>\n",
              "      <td>19806_115</td>\n",
              "      <td>19806</td>\n",
              "      <td>115</td>\n",
              "    </tr>\n",
              "    <tr>\n",
              "      <th>...</th>\n",
              "      <td>...</td>\n",
              "      <td>...</td>\n",
              "      <td>...</td>\n",
              "    </tr>\n",
              "    <tr>\n",
              "      <th>537875</th>\n",
              "      <td>14333_74</td>\n",
              "      <td>14333</td>\n",
              "      <td>74</td>\n",
              "    </tr>\n",
              "    <tr>\n",
              "      <th>537876</th>\n",
              "      <td>25245_16</td>\n",
              "      <td>25245</td>\n",
              "      <td>16</td>\n",
              "    </tr>\n",
              "    <tr>\n",
              "      <th>537877</th>\n",
              "      <td>4082_9</td>\n",
              "      <td>4082</td>\n",
              "      <td>9</td>\n",
              "    </tr>\n",
              "    <tr>\n",
              "      <th>537878</th>\n",
              "      <td>19638_128</td>\n",
              "      <td>19638</td>\n",
              "      <td>128</td>\n",
              "    </tr>\n",
              "    <tr>\n",
              "      <th>537879</th>\n",
              "      <td>40665_26</td>\n",
              "      <td>40665</td>\n",
              "      <td>26</td>\n",
              "    </tr>\n",
              "  </tbody>\n",
              "</table>\n",
              "<p>537880 rows × 3 columns</p>\n",
              "</div>"
            ],
            "text/plain": [
              "               id  user_id  joke_id\n",
              "0         6194_11     6194       11\n",
              "1         19356_3    19356        3\n",
              "2        23426_79    23426       79\n",
              "3         40030_3    40030        3\n",
              "4       19806_115    19806      115\n",
              "...           ...      ...      ...\n",
              "537875   14333_74    14333       74\n",
              "537876   25245_16    25245       16\n",
              "537877     4082_9     4082        9\n",
              "537878  19638_128    19638      128\n",
              "537879   40665_26    40665       26\n",
              "\n",
              "[537880 rows x 3 columns]"
            ]
          },
          "metadata": {
            "tags": []
          },
          "execution_count": 8
        }
      ]
    },
    {
      "cell_type": "code",
      "metadata": {
        "id": "YDTLu5fcTNpJ",
        "colab_type": "code",
        "colab": {
          "base_uri": "https://localhost:8080/",
          "height": 419
        },
        "outputId": "aaf5437b-6c24-453e-fba9-0ca5abe74752"
      },
      "source": [
        "x_test = test_data.iloc[:,1:3]\n",
        "x_test"
      ],
      "execution_count": null,
      "outputs": [
        {
          "output_type": "execute_result",
          "data": {
            "text/html": [
              "<div>\n",
              "<style scoped>\n",
              "    .dataframe tbody tr th:only-of-type {\n",
              "        vertical-align: middle;\n",
              "    }\n",
              "\n",
              "    .dataframe tbody tr th {\n",
              "        vertical-align: top;\n",
              "    }\n",
              "\n",
              "    .dataframe thead th {\n",
              "        text-align: right;\n",
              "    }\n",
              "</style>\n",
              "<table border=\"1\" class=\"dataframe\">\n",
              "  <thead>\n",
              "    <tr style=\"text-align: right;\">\n",
              "      <th></th>\n",
              "      <th>user_id</th>\n",
              "      <th>joke_id</th>\n",
              "    </tr>\n",
              "  </thead>\n",
              "  <tbody>\n",
              "    <tr>\n",
              "      <th>0</th>\n",
              "      <td>6194</td>\n",
              "      <td>11</td>\n",
              "    </tr>\n",
              "    <tr>\n",
              "      <th>1</th>\n",
              "      <td>19356</td>\n",
              "      <td>3</td>\n",
              "    </tr>\n",
              "    <tr>\n",
              "      <th>2</th>\n",
              "      <td>23426</td>\n",
              "      <td>79</td>\n",
              "    </tr>\n",
              "    <tr>\n",
              "      <th>3</th>\n",
              "      <td>40030</td>\n",
              "      <td>3</td>\n",
              "    </tr>\n",
              "    <tr>\n",
              "      <th>4</th>\n",
              "      <td>19806</td>\n",
              "      <td>115</td>\n",
              "    </tr>\n",
              "    <tr>\n",
              "      <th>...</th>\n",
              "      <td>...</td>\n",
              "      <td>...</td>\n",
              "    </tr>\n",
              "    <tr>\n",
              "      <th>537875</th>\n",
              "      <td>14333</td>\n",
              "      <td>74</td>\n",
              "    </tr>\n",
              "    <tr>\n",
              "      <th>537876</th>\n",
              "      <td>25245</td>\n",
              "      <td>16</td>\n",
              "    </tr>\n",
              "    <tr>\n",
              "      <th>537877</th>\n",
              "      <td>4082</td>\n",
              "      <td>9</td>\n",
              "    </tr>\n",
              "    <tr>\n",
              "      <th>537878</th>\n",
              "      <td>19638</td>\n",
              "      <td>128</td>\n",
              "    </tr>\n",
              "    <tr>\n",
              "      <th>537879</th>\n",
              "      <td>40665</td>\n",
              "      <td>26</td>\n",
              "    </tr>\n",
              "  </tbody>\n",
              "</table>\n",
              "<p>537880 rows × 2 columns</p>\n",
              "</div>"
            ],
            "text/plain": [
              "        user_id  joke_id\n",
              "0          6194       11\n",
              "1         19356        3\n",
              "2         23426       79\n",
              "3         40030        3\n",
              "4         19806      115\n",
              "...         ...      ...\n",
              "537875    14333       74\n",
              "537876    25245       16\n",
              "537877     4082        9\n",
              "537878    19638      128\n",
              "537879    40665       26\n",
              "\n",
              "[537880 rows x 2 columns]"
            ]
          },
          "metadata": {
            "tags": []
          },
          "execution_count": 9
        }
      ]
    },
    {
      "cell_type": "code",
      "metadata": {
        "id": "y3toE8cxTtzH",
        "colab_type": "code",
        "colab": {}
      },
      "source": [
        "a = RF.predict(x_test)"
      ],
      "execution_count": null,
      "outputs": []
    },
    {
      "cell_type": "code",
      "metadata": {
        "id": "yC5i3HIzXQYn",
        "colab_type": "code",
        "colab": {
          "base_uri": "https://localhost:8080/",
          "height": 34
        },
        "outputId": "20a00457-18d1-450e-b4f4-896ccf061804"
      },
      "source": [
        "pred = pd.Series(a)\n",
        "pred.dtypes"
      ],
      "execution_count": null,
      "outputs": [
        {
          "output_type": "execute_result",
          "data": {
            "text/plain": [
              "dtype('float64')"
            ]
          },
          "metadata": {
            "tags": []
          },
          "execution_count": 11
        }
      ]
    },
    {
      "cell_type": "code",
      "metadata": {
        "id": "DS8C5VLXU0D1",
        "colab_type": "code",
        "colab": {}
      },
      "source": [
        "test_data['id'] = test_data['id'].to_csv('sub.csv',index = False)"
      ],
      "execution_count": null,
      "outputs": []
    },
    {
      "cell_type": "code",
      "metadata": {
        "id": "j3VIEDQdbLhB",
        "colab_type": "code",
        "colab": {}
      },
      "source": [
        "a = pd.read_csv('sub.csv')"
      ],
      "execution_count": null,
      "outputs": []
    },
    {
      "cell_type": "code",
      "metadata": {
        "id": "_8CxFnCbbY1T",
        "colab_type": "code",
        "colab": {}
      },
      "source": [
        "a['ratings'] = pred"
      ],
      "execution_count": null,
      "outputs": []
    },
    {
      "cell_type": "code",
      "metadata": {
        "id": "u94hLE5Fbxcb",
        "colab_type": "code",
        "colab": {}
      },
      "source": [
        "a = a.to_csv('finalsub.csv')"
      ],
      "execution_count": null,
      "outputs": []
    },
    {
      "cell_type": "code",
      "metadata": {
        "id": "r7Bk76Ilb6sE",
        "colab_type": "code",
        "colab": {
          "base_uri": "https://localhost:8080/",
          "height": 419
        },
        "outputId": "6df0b693-2e75-49b9-d2f6-f67b432878cb"
      },
      "source": [
        "pd.read_csv('finalsub.csv')"
      ],
      "execution_count": null,
      "outputs": [
        {
          "output_type": "execute_result",
          "data": {
            "text/html": [
              "<div>\n",
              "<style scoped>\n",
              "    .dataframe tbody tr th:only-of-type {\n",
              "        vertical-align: middle;\n",
              "    }\n",
              "\n",
              "    .dataframe tbody tr th {\n",
              "        vertical-align: top;\n",
              "    }\n",
              "\n",
              "    .dataframe thead th {\n",
              "        text-align: right;\n",
              "    }\n",
              "</style>\n",
              "<table border=\"1\" class=\"dataframe\">\n",
              "  <thead>\n",
              "    <tr style=\"text-align: right;\">\n",
              "      <th></th>\n",
              "      <th>Unnamed: 0</th>\n",
              "      <th>id</th>\n",
              "      <th>ratings</th>\n",
              "    </tr>\n",
              "  </thead>\n",
              "  <tbody>\n",
              "    <tr>\n",
              "      <th>0</th>\n",
              "      <td>0</td>\n",
              "      <td>6194_11</td>\n",
              "      <td>6.29649</td>\n",
              "    </tr>\n",
              "    <tr>\n",
              "      <th>1</th>\n",
              "      <td>1</td>\n",
              "      <td>19356_3</td>\n",
              "      <td>2.54958</td>\n",
              "    </tr>\n",
              "    <tr>\n",
              "      <th>2</th>\n",
              "      <td>2</td>\n",
              "      <td>23426_79</td>\n",
              "      <td>-0.56745</td>\n",
              "    </tr>\n",
              "    <tr>\n",
              "      <th>3</th>\n",
              "      <td>3</td>\n",
              "      <td>40030_3</td>\n",
              "      <td>-0.71308</td>\n",
              "    </tr>\n",
              "    <tr>\n",
              "      <th>4</th>\n",
              "      <td>4</td>\n",
              "      <td>19806_115</td>\n",
              "      <td>4.21844</td>\n",
              "    </tr>\n",
              "    <tr>\n",
              "      <th>...</th>\n",
              "      <td>...</td>\n",
              "      <td>...</td>\n",
              "      <td>...</td>\n",
              "    </tr>\n",
              "    <tr>\n",
              "      <th>537875</th>\n",
              "      <td>537875</td>\n",
              "      <td>14333_74</td>\n",
              "      <td>-0.32651</td>\n",
              "    </tr>\n",
              "    <tr>\n",
              "      <th>537876</th>\n",
              "      <td>537876</td>\n",
              "      <td>25245_16</td>\n",
              "      <td>6.05046</td>\n",
              "    </tr>\n",
              "    <tr>\n",
              "      <th>537877</th>\n",
              "      <td>537877</td>\n",
              "      <td>4082_9</td>\n",
              "      <td>-1.74495</td>\n",
              "    </tr>\n",
              "    <tr>\n",
              "      <th>537878</th>\n",
              "      <td>537878</td>\n",
              "      <td>19638_128</td>\n",
              "      <td>0.01672</td>\n",
              "    </tr>\n",
              "    <tr>\n",
              "      <th>537879</th>\n",
              "      <td>537879</td>\n",
              "      <td>40665_26</td>\n",
              "      <td>2.97603</td>\n",
              "    </tr>\n",
              "  </tbody>\n",
              "</table>\n",
              "<p>537880 rows × 3 columns</p>\n",
              "</div>"
            ],
            "text/plain": [
              "        Unnamed: 0         id  ratings\n",
              "0                0    6194_11  6.29649\n",
              "1                1    19356_3  2.54958\n",
              "2                2   23426_79 -0.56745\n",
              "3                3    40030_3 -0.71308\n",
              "4                4  19806_115  4.21844\n",
              "...            ...        ...      ...\n",
              "537875      537875   14333_74 -0.32651\n",
              "537876      537876   25245_16  6.05046\n",
              "537877      537877     4082_9 -1.74495\n",
              "537878      537878  19638_128  0.01672\n",
              "537879      537879   40665_26  2.97603\n",
              "\n",
              "[537880 rows x 3 columns]"
            ]
          },
          "metadata": {
            "tags": []
          },
          "execution_count": 18
        }
      ]
    }
  ]
}